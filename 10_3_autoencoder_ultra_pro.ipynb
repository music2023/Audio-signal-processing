{
  "nbformat": 4,
  "nbformat_minor": 0,
  "metadata": {
    "colab": {
      "provenance": []
    },
    "kernelspec": {
      "name": "python3",
      "display_name": "Python 3"
    },
    "language_info": {
      "name": "python"
    },
    "accelerator": "GPU"
  },
  "cells": [
    {
      "cell_type": "markdown",
      "metadata": {
        "id": "ywoRx_0m6Y17"
      },
      "source": [
        "## Задание\n",
        "\n",
        "Создайте автокодировщик, удаляющий черные квадраты в лучшайных областях изображений.\n",
        "\n",
        "Алгоритм действий:\n",
        "1. Возьмите базу картинок Mnist.\n",
        "2. На картинках в случайных местах сделайте чёрные квадраты размера 8 на 8.\n",
        "3. Создайте и обучите автокодировщик восстанавливать оригинальные изображения из \"зашумленных\" квадратом изображений.\n",
        "4. Добейтесь MSE < 0.0070 на тестовой выборке"
      ]
    },
    {
      "cell_type": "markdown",
      "metadata": {
        "id": "1qFUlKC1884a"
      },
      "source": [
        "## Импорт библиотек"
      ]
    },
    {
      "cell_type": "code",
      "metadata": {
        "id": "DvUAFGSD6SHe"
      },
      "source": [
        "# Отображение\n",
        "import matplotlib.pyplot as plt\n",
        "\n",
        "# Для работы с тензорами\n",
        "import numpy as np \n",
        "\n",
        "# Класс создания модели\n",
        "from tensorflow.keras.models import Model\n",
        "\n",
        "# Для загрузки данных\n",
        "from tensorflow.keras.datasets import mnist\n",
        "\n",
        "# Необходимые слои\n",
        "from tensorflow.keras.layers import Input, Conv2DTranspose, MaxPooling2D, Conv2D, BatchNormalization\n",
        "\n",
        "# Оптимизатор\n",
        "from tensorflow.keras.optimizers import Adam"
      ],
      "execution_count": null,
      "outputs": []
    },
    {
      "cell_type": "markdown",
      "metadata": {
        "id": "GeLAvneZ9GX3"
      },
      "source": [
        "## Данные"
      ]
    },
    {
      "cell_type": "code",
      "metadata": {
        "id": "HI8GBAUZ9F-T",
        "colab": {
          "base_uri": "https://localhost:8080/"
        },
        "outputId": "94d5274e-f565-467f-98c5-1e8b8b3e31ba"
      },
      "source": [
        "# Загрузка данных\n",
        "(X_train, y_train), (X_test, y_test) = mnist.load_data() "
      ],
      "execution_count": null,
      "outputs": [
        {
          "output_type": "stream",
          "name": "stdout",
          "text": [
            "Downloading data from https://storage.googleapis.com/tensorflow/tf-keras-datasets/mnist.npz\n",
            "11490434/11490434 [==============================] - 2s 0us/step\n"
          ]
        }
      ]
    },
    {
      "cell_type": "code",
      "metadata": {
        "id": "OWwvDBiS9Jcx"
      },
      "source": [
        "# Нормировка данных\n",
        "X_train = X_train.astype('float32')/255.\n",
        "X_test = X_test.astype('float32')/255."
      ],
      "execution_count": null,
      "outputs": []
    },
    {
      "cell_type": "code",
      "metadata": {
        "id": "z8tWtOfV9LCd"
      },
      "source": [
        "# Изменение формы под удобную для Keras\n",
        "X_train = X_train.reshape((-1, 28, 28, 1))\n",
        "X_test = X_test.reshape((-1, 28, 28, 1))"
      ],
      "execution_count": null,
      "outputs": []
    },
    {
      "cell_type": "code",
      "metadata": {
        "id": "ZoIMK8sV9RDC"
      },
      "source": [
        "# Ваше решение"
      ],
      "execution_count": null,
      "outputs": []
    },
    {
      "cell_type": "code",
      "source": [
        "X_train.shape"
      ],
      "metadata": {
        "colab": {
          "base_uri": "https://localhost:8080/"
        },
        "id": "tHZplJgKo1Jo",
        "outputId": "6ea3a080-43eb-43b8-b68f-c164643bdad5"
      },
      "execution_count": null,
      "outputs": [
        {
          "output_type": "execute_result",
          "data": {
            "text/plain": [
              "(60000, 28, 28, 1)"
            ]
          },
          "metadata": {},
          "execution_count": 5
        }
      ]
    },
    {
      "cell_type": "code",
      "source": [
        "#Функция последовательного вывода нескольких изображений для сравнения"
      ],
      "metadata": {
        "id": "rMVpKGYPo1Nj"
      },
      "execution_count": null,
      "outputs": []
    },
    {
      "cell_type": "code",
      "source": [
        "def plot_images(X, pred, shape=None, n=5):\n",
        "\n",
        "    # Автоопределение формы данных\n",
        "    if shape is None:                               \n",
        "\n",
        "        # Форма изображения \n",
        "        shape = X.shape[1:3]                   \n",
        "\n",
        "    # Размер полотна\n",
        "    plt.figure(figsize=(14, 7))                     \n",
        "\n",
        "    # Вывод n пар изображений\n",
        "    for i in range(n):                              \n",
        "\n",
        "        # Выбор случайного индекса изображения\n",
        "        index = np.random.randint(0, pred.shape[0]) \n",
        "\n",
        "        # Показ картинки с индексом index из набора X\n",
        "        ax = plt.subplot(2, n, i + 1)               # Картинка располагается в верхнем ряду\n",
        "\n",
        "        # Серая палитра\n",
        "        plt.imshow(X[index].reshape(shape), cmap='gray')\n",
        "\n",
        "        # Без отображения числовых осей\n",
        "        ax.get_xaxis().set_visible(False) \n",
        "        ax.get_yaxis().set_visible(False) \n",
        "\n",
        "        # Показ картинки с тем же индексом из предсказания автокодировщика\n",
        "        ax = plt.subplot(2, n, i + 1 + n)           # Картинка располагается в нижнем ряду\n",
        "\n",
        "        # Серая палитра\n",
        "        plt.imshow(pred[index].reshape(shape), cmap='gray')\n",
        "\n",
        "        # Без отображения числовых осей\n",
        "        ax.get_xaxis().set_visible(False)\n",
        "        ax.get_yaxis().set_visible(False)\n",
        "\n",
        "    plt.show()"
      ],
      "metadata": {
        "id": "e7ePzj4mo1QU"
      },
      "execution_count": null,
      "outputs": []
    },
    {
      "cell_type": "code",
      "source": [
        "# Автокодировщик"
      ],
      "metadata": {
        "id": "dTvGchKNo1Sp"
      },
      "execution_count": null,
      "outputs": []
    },
    {
      "cell_type": "code",
      "source": [
        "def create_model():\n",
        "    \n",
        "    # Входной слой\n",
        "    img_input = Input((28,28,1))\n",
        "\n",
        "    # Сжатие изображения\n",
        "    x = Conv2D(32, (3, 3), padding='same', activation='relu')(img_input) \n",
        "    x = BatchNormalization()(x) \n",
        "    x = Conv2D(32, (3, 3), padding='same', activation='relu')(x) \n",
        "    x = BatchNormalization()(x)\n",
        "    x = MaxPooling2D()(x)\n",
        "\n",
        "    x = Conv2D(64, (3, 3), padding='same', activation='relu')(x)\n",
        "    x = BatchNormalization()(x)\n",
        "    x = Conv2D(64, (3, 3), padding='same', activation='relu')(x)\n",
        "    x = BatchNormalization()(x)\n",
        "    z = MaxPooling2D()(x)\n",
        "\n",
        "    # Форма вектора в латентном пространстве: (7, 7, 1)\n",
        "\n",
        "    # Расширение изображения\n",
        "    x = Conv2DTranspose(64, (2, 2), strides=(2, 2), padding='same', activation='relu')(z)\n",
        "    x = BatchNormalization()(x)\n",
        "    \n",
        "    x = Conv2D(64, (3, 3), padding='same', activation='relu')(x)\n",
        "    x = BatchNormalization()(x)\n",
        "    x = Conv2D(64, (3, 3), padding='same', activation='relu')(x)\n",
        "    x = BatchNormalization()(x)\n",
        "\n",
        "    x = Conv2DTranspose(32, (2, 2), strides=(2, 2), padding='same', activation='relu')(x)\n",
        "    x = BatchNormalization()(x)\n",
        "    x = Conv2D(32, (3, 3), padding='same', activation='relu')(x)\n",
        "    x = BatchNormalization()(x)\n",
        "    x = Conv2D(32, (3, 3), padding='same', activation='relu')(x)\n",
        "    x = BatchNormalization()(x)\n",
        "\n",
        "    # Финальный слой двумерной свертки, выдающий итоговое изображение\n",
        "    x = Conv2D(1, (3, 3), activation='sigmoid', padding='same')(x)\n",
        "\n",
        "    model = Model(img_input, x)\n",
        "    model.compile(optimizer=Adam(.001),\n",
        "                  loss='mean_squared_error')\n",
        "\n",
        "    return model"
      ],
      "metadata": {
        "id": "Luy522dxo1Vx"
      },
      "execution_count": null,
      "outputs": []
    },
    {
      "cell_type": "code",
      "source": [
        "#Протестируем автокодировщик на работоспособность, обучив восстанавливать оригинальные данные из них же."
      ],
      "metadata": {
        "id": "cxWBWs39pXeX"
      },
      "execution_count": null,
      "outputs": []
    },
    {
      "cell_type": "code",
      "source": [
        "# Создание автокодировщика\n",
        "model = create_model() "
      ],
      "metadata": {
        "id": "AVAQ3vfYpXht"
      },
      "execution_count": null,
      "outputs": []
    },
    {
      "cell_type": "code",
      "source": [
        "model.fit(X_train, X_train, \n",
        "          epochs=5,\n",
        "          batch_size=128,\n",
        "          validation_data = (X_test, X_test))"
      ],
      "metadata": {
        "colab": {
          "base_uri": "https://localhost:8080/"
        },
        "id": "Y0kNqn8epXkk",
        "outputId": "91145cc4-884f-4046-bb81-0a452784ca83"
      },
      "execution_count": null,
      "outputs": [
        {
          "output_type": "stream",
          "name": "stdout",
          "text": [
            "Epoch 1/5\n",
            "469/469 [==============================] - 23s 29ms/step - loss: 0.0107 - val_loss: 0.0079\n",
            "Epoch 2/5\n",
            "469/469 [==============================] - 12s 26ms/step - loss: 0.0019 - val_loss: 0.0029\n",
            "Epoch 3/5\n",
            "469/469 [==============================] - 12s 26ms/step - loss: 0.0014 - val_loss: 0.0016\n",
            "Epoch 4/5\n",
            "469/469 [==============================] - 12s 27ms/step - loss: 0.0011 - val_loss: 9.3317e-04\n",
            "Epoch 5/5\n",
            "469/469 [==============================] - 12s 27ms/step - loss: 9.5093e-04 - val_loss: 8.9976e-04\n"
          ]
        },
        {
          "output_type": "execute_result",
          "data": {
            "text/plain": [
              "<keras.callbacks.History at 0x7fb700174b80>"
            ]
          },
          "metadata": {},
          "execution_count": 9
        }
      ]
    },
    {
      "cell_type": "code",
      "source": [
        "model.fit(X_train[:500], X_train[:500], \n",
        "          epochs=5,\n",
        "          batch_size=128,\n",
        "          validation_data = (X_test[:10], X_test[:10]))"
      ],
      "metadata": {
        "colab": {
          "base_uri": "https://localhost:8080/"
        },
        "id": "hAeZ24TDo1YH",
        "outputId": "62974295-61c7-43aa-f3b0-e59abf8cf7f7"
      },
      "execution_count": null,
      "outputs": [
        {
          "output_type": "stream",
          "name": "stdout",
          "text": [
            "Epoch 1/5\n",
            "4/4 [==============================] - 1s 170ms/step - loss: 8.8770e-04 - val_loss: 9.0986e-04\n",
            "Epoch 2/5\n",
            "4/4 [==============================] - 0s 31ms/step - loss: 9.4398e-04 - val_loss: 7.7095e-04\n",
            "Epoch 3/5\n",
            "4/4 [==============================] - 0s 32ms/step - loss: 8.2911e-04 - val_loss: 6.9223e-04\n",
            "Epoch 4/5\n",
            "4/4 [==============================] - 0s 33ms/step - loss: 7.6181e-04 - val_loss: 6.1309e-04\n",
            "Epoch 5/5\n",
            "4/4 [==============================] - 0s 32ms/step - loss: 8.1913e-04 - val_loss: 7.0792e-04\n"
          ]
        },
        {
          "output_type": "execute_result",
          "data": {
            "text/plain": [
              "<keras.callbacks.History at 0x7fb6ac3324c0>"
            ]
          },
          "metadata": {},
          "execution_count": 10
        }
      ]
    },
    {
      "cell_type": "code",
      "source": [
        "# Посмотрим, какие изображения получаются на выходе."
      ],
      "metadata": {
        "id": "NtJAq7lgo1ay"
      },
      "execution_count": null,
      "outputs": []
    },
    {
      "cell_type": "code",
      "source": [
        "pred = model.predict(X_test)"
      ],
      "metadata": {
        "colab": {
          "base_uri": "https://localhost:8080/"
        },
        "id": "E4R9dLRSp9Dj",
        "outputId": "2f2bcaf4-5f5e-4f57-bb95-cccda079dd7d"
      },
      "execution_count": null,
      "outputs": [
        {
          "output_type": "stream",
          "name": "stdout",
          "text": [
            "313/313 [==============================] - 1s 3ms/step\n"
          ]
        }
      ]
    },
    {
      "cell_type": "code",
      "source": [
        "# Отображение результата\n",
        "plot_images(X_test, pred)"
      ],
      "metadata": {
        "colab": {
          "base_uri": "https://localhost:8080/",
          "height": 377
        },
        "id": "1X0jxIQRp9Gn",
        "outputId": "63f3e1c7-367c-4c09-cd44-ab2fe5ddd22f"
      },
      "execution_count": null,
      "outputs": [
        {
          "output_type": "display_data",
          "data": {
            "text/plain": [
              "<Figure size 1008x504 with 10 Axes>"
            ],
            "image/png": "[encoded data removed]"
          },
          "metadata": {
            "needs_background": "light"
          }
        }
      ]
    },
    {
      "cell_type": "code",
      "source": [
        "# Создание данных с черными квадратами"
      ],
      "metadata": {
        "id": "HHyH0axzp9Jw"
      },
      "execution_count": null,
      "outputs": []
    },
    {
      "cell_type": "code",
      "source": [
        "# Загрузка данных\n",
        "(X_train, y_train), (X_test, y_test) = mnist.load_data()\n",
        "\n",
        "# Нормировка данных\n",
        "X_train = X_train.astype('float32')/255.\n",
        "X_test = X_test.astype('float32')/255.\n",
        "\n",
        "# Изменение формы под удобную для Keras\n",
        "X_train = X_train.reshape((-1, 28, 28, 1))\n",
        "X_test = X_test.reshape((-1, 28, 28, 1))"
      ],
      "metadata": {
        "id": "-NmETCC3qKqR"
      },
      "execution_count": null,
      "outputs": []
    },
    {
      "cell_type": "code",
      "source": [
        "#Создадим функцию добавления квадрата на подаваемое изображение."
      ],
      "metadata": {
        "id": "OvR8x2_qqKt0"
      },
      "execution_count": null,
      "outputs": []
    },
    {
      "cell_type": "code",
      "source": [
        "def add_square(x):\n",
        "  x = x.copy()\n",
        "  # Создаем координату Х квадрата\n",
        "  squareRandomX = np.random.randint(20) \n",
        "\n",
        "  # Создаем координату Y квадрата\n",
        "  squareRandomY = np.random.randint(20) \n",
        "\n",
        "  # Закрашивание черным пикселей в рамках квадрата\n",
        "  for i in range(squareRandomX,squareRandomX+8):\n",
        "    for j in range(squareRandomY,squareRandomY+8):\n",
        "         x[i,j] = 0\n",
        "         \n",
        "  return x"
      ],
      "metadata": {
        "id": "4iNMB5TvqKw_"
      },
      "execution_count": null,
      "outputs": []
    },
    {
      "cell_type": "code",
      "source": [
        "#Пересоздадим выборки. Пусть теперь метки будут y_train, y_test – оригинальные изображения, \n",
        "#X_train, X_test – оригинальные изображения с добавленными черными квадратами."
      ],
      "metadata": {
        "id": "dK7wXfANqcxM"
      },
      "execution_count": null,
      "outputs": []
    },
    {
      "cell_type": "code",
      "source": [
        "# Переопределение меток\n",
        "y_train = X_train.copy()\n",
        "y_test = X_test.copy()"
      ],
      "metadata": {
        "id": "akISOBdwqc1o"
      },
      "execution_count": null,
      "outputs": []
    },
    {
      "cell_type": "code",
      "source": [
        "X_train.shape"
      ],
      "metadata": {
        "colab": {
          "base_uri": "https://localhost:8080/"
        },
        "id": "q0gtx43mqc44",
        "outputId": "5cd33025-c059-43b6-abb3-34ecad0757a0"
      },
      "execution_count": null,
      "outputs": [
        {
          "output_type": "execute_result",
          "data": {
            "text/plain": [
              "(60000, 28, 28, 1)"
            ]
          },
          "metadata": {},
          "execution_count": 16
        }
      ]
    },
    {
      "cell_type": "code",
      "source": [
        "# Создание тренировочных объектов\n",
        "X_train = np.array(list(map(add_square, X_train)))\n",
        "X_test = np.array(list(map(add_square, X_test)))"
      ],
      "metadata": {
        "id": "QKKGwH4dq9Wj"
      },
      "execution_count": null,
      "outputs": []
    },
    {
      "cell_type": "code",
      "source": [
        "# Отрисовка результата\n",
        "plot_images(y_train, X_train)"
      ],
      "metadata": {
        "colab": {
          "base_uri": "https://localhost:8080/",
          "height": 377
        },
        "id": "YEHPKFrlq9aV",
        "outputId": "458825d0-c4d9-475e-a741-839268a3753d"
      },
      "execution_count": null,
      "outputs": [
        {
          "output_type": "display_data",
          "data": {
            "text/plain": [
              "<Figure size 1008x504 with 10 Axes>"
            ],
            "image/png": "[encoded data removed]"
          },
          "metadata": {
            "needs_background": "light"
          }
        }
      ]
    },
    {
      "cell_type": "code",
      "source": [
        "# Создание модели\n",
        "model = create_model()"
      ],
      "metadata": {
        "id": "AYqM6jPiq9cp"
      },
      "execution_count": null,
      "outputs": []
    },
    {
      "cell_type": "code",
      "source": [
        "# Тренировка\n",
        "model.fit(X_train, y_train, \n",
        "          epochs=10,\n",
        "          batch_size=128,\n",
        "          validation_data = (X_test, y_test))"
      ],
      "metadata": {
        "colab": {
          "base_uri": "https://localhost:8080/"
        },
        "id": "ZBeR668Jq9fX",
        "outputId": "757fab5e-cfcb-4f0a-8f06-8a671521e6c8"
      },
      "execution_count": null,
      "outputs": [
        {
          "output_type": "stream",
          "name": "stdout",
          "text": [
            "Epoch 1/10\n",
            "469/469 [==============================] - 14s 27ms/step - loss: 0.0163 - val_loss: 0.0251\n",
            "Epoch 2/10\n",
            "469/469 [==============================] - 12s 27ms/step - loss: 0.0058 - val_loss: 0.0062\n",
            "Epoch 3/10\n",
            "469/469 [==============================] - 13s 27ms/step - loss: 0.0050 - val_loss: 0.0051\n",
            "Epoch 4/10\n",
            "469/469 [==============================] - 13s 27ms/step - loss: 0.0045 - val_loss: 0.0049\n",
            "Epoch 5/10\n",
            "469/469 [==============================] - 13s 27ms/step - loss: 0.0042 - val_loss: 0.0071\n",
            "Epoch 6/10\n",
            "469/469 [==============================] - 13s 27ms/step - loss: 0.0040 - val_loss: 0.0045\n",
            "Epoch 7/10\n",
            "469/469 [==============================] - 13s 27ms/step - loss: 0.0038 - val_loss: 0.0040\n",
            "Epoch 8/10\n",
            "469/469 [==============================] - 13s 27ms/step - loss: 0.0037 - val_loss: 0.0038\n",
            "Epoch 9/10\n",
            "469/469 [==============================] - 12s 27ms/step - loss: 0.0036 - val_loss: 0.0043\n",
            "Epoch 10/10\n",
            "469/469 [==============================] - 13s 27ms/step - loss: 0.0035 - val_loss: 0.0039\n"
          ]
        },
        {
          "output_type": "execute_result",
          "data": {
            "text/plain": [
              "<keras.callbacks.History at 0x7fb6ac08da90>"
            ]
          },
          "metadata": {},
          "execution_count": 20
        }
      ]
    },
    {
      "cell_type": "code",
      "source": [
        "# Восстановление\n",
        "pred = model.predict(X_test)\n",
        "\n",
        "# Отображение результата\n",
        "plot_images(X_test, pred)"
      ],
      "metadata": {
        "colab": {
          "base_uri": "https://localhost:8080/",
          "height": 394
        },
        "id": "PD5vsS4ZrJrT",
        "outputId": "1b5ed7ce-8898-4c85-f928-69392c2edab8"
      },
      "execution_count": null,
      "outputs": [
        {
          "output_type": "stream",
          "name": "stdout",
          "text": [
            "313/313 [==============================] - 1s 3ms/step\n"
          ]
        },
        {
          "output_type": "display_data",
          "data": {
            "text/plain": [
              "<Figure size 1008x504 with 10 Axes>"
            ],
            "image/png": "[encoded data removed]"
          },
          "metadata": {
            "needs_background": "light"
          }
        }
      ]
    },
    {
      "cell_type": "code",
      "source": [],
      "metadata": {
        "id": "1yR2cWgEo1d8"
      },
      "execution_count": null,
      "outputs": []
    }
  ]
}