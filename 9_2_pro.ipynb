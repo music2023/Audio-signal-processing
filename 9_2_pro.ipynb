{
  "nbformat": 4,
  "nbformat_minor": 0,
  "metadata": {
    "colab": {
      "provenance": []
    },
    "kernelspec": {
      "name": "python3",
      "display_name": "Python 3"
    },
    "language_info": {
      "name": "python"
    },
    "accelerator": "GPU"
  },
  "cells": [
    {
      "cell_type": "markdown",
      "source": [
        "Используя базу \"Аудиожанры\", примените подход к музыке как к тексту и напишите сверточный классификатор (на базе слоя Conv1D) для подготовленных данных. Для этого:\n",
        "\n",
        "1. Измените подготовку данных так, чтобы набор признаков, извлекаемый из аудиофайла, был представлен в виде последовательностей векторов признаков. Последовательности должны быть фиксированного размера и выбираться скользящим окном c заданным шагом. Другими словами: берем аудио-файл длительность, например, 30 сек. Берем отрезок фиксированной длины (например, 5с) и получаем набор признаков для этого отрезка. Смещаемся на шаг (например, 1с) и берем следующий отрезок. Таким образом готовим обучающую вборку.\n",
        "2. Длину последовательности, размер шага и достаточный набор признаков определите самостоятельно исходя из требований к точности классификатора;\n",
        "3. Разработайте классификатор на одномерных сверточных слоях **Conv1D** с точностью классификации жанра на тестовых данных не ниже **60%**, а на обучающих файлах - **68%** и выше;\n",
        "4. Используйте за основу материал с урока, но при желании разработайте свои инструменты."
      ],
      "metadata": {
        "id": "ovOMUqWP2izb"
      }
    },
    {
      "cell_type": "markdown",
      "metadata": {
        "id": "_XxR71u8eXyD"
      },
      "source": [
        "Импортируем необходимые библиотеки:"
      ]
    },
    {
      "cell_type": "code",
      "metadata": {
        "id": "xWiCMHe2LPU4"
      },
      "source": [
        "# Массивы\n",
        "import numpy as np\n",
        "\n",
        "# Отрисовка графиков\n",
        "import matplotlib.pyplot as plt\n",
        "\n",
        "# Загрузка из google облака\n",
        "import gdown\n",
        "\n",
        "# Преобразование категориальных данных в one hot encoding\n",
        "from tensorflow.keras.utils import to_categorical\n",
        "\n",
        "# Работа с папками и файлами\n",
        "import os\n",
        "\n",
        "# Утилиты работы со временем\n",
        "import time\n",
        "\n",
        "# Работа со случайными числами\n",
        "import random\n",
        "\n",
        "# Математические функции\n",
        "import math\n",
        "\n",
        "# Сохранение и загрузка структур данных Python\n",
        "import pickle\n",
        "\n",
        "# Параметризация аудио\n",
        "import librosa\n",
        "\n",
        "# Оптимизаторы для обучения моделей\n",
        "from tensorflow.keras.optimizers import Adam, RMSprop\n",
        "\n",
        "# Конструирование и загрузка моделей нейронных сетей\n",
        "from tensorflow.keras.models import Sequential, Model, load_model\n",
        "\n",
        "# Основные слои\n",
        "from tensorflow.keras.layers import concatenate, Input, Dense, Dropout, BatchNormalization, Flatten, Conv1D, Conv2D, LSTM\n",
        "from tensorflow.keras.layers import MaxPooling1D, AveragePooling1D, SpatialDropout1D\n",
        "\n",
        "# Разбиение на обучающую и проверочную выборку\n",
        "from sklearn.model_selection import train_test_split\n",
        "\n",
        "# Кодирование категориальных меток, нормирование числовых данных\n",
        "from sklearn.preprocessing import LabelEncoder, StandardScaler\n",
        "\n",
        "# Матрица ошибок классификатора\n",
        "from sklearn.metrics import confusion_matrix, ConfusionMatrixDisplay\n",
        "\n",
        "# Отключение предупреждений\n",
        "import warnings\n",
        "warnings.filterwarnings('ignore')\n",
        "\n",
        "%matplotlib inline "
      ],
      "execution_count": null,
      "outputs": []
    },
    {
      "cell_type": "markdown",
      "metadata": {
        "id": "unFzU0dqyTGO"
      },
      "source": [
        "Загрузим датасет в Colab:"
      ]
    },
    {
      "cell_type": "code",
      "metadata": {
        "colab": {
          "base_uri": "https://localhost:8080/",
          "height": 37
        },
        "id": "2_zMM9lkfqS8",
        "outputId": "514eccff-a41e-4cfe-8113-e2289a83aefd"
      },
      "source": [
        "# Загрузка датасета из облака\n",
        "gdown.download('https://storage.yandexcloud.net/aiueducation/Content/base/l12/genres.zip', None, quiet=True)"
      ],
      "execution_count": null,
      "outputs": [
        {
          "output_type": "execute_result",
          "data": {
            "text/plain": [
              "'genres.zip'"
            ],
            "application/vnd.google.colaboratory.intrinsic+json": {
              "type": "string"
            }
          },
          "metadata": {},
          "execution_count": 2
        }
      ]
    },
    {
      "cell_type": "code",
      "metadata": {
        "colab": {
          "base_uri": "https://localhost:8080/"
        },
        "id": "Aw-k-4N66E4J",
        "outputId": "1cb2fd86-3e43-4739-c75b-b005bb5828e7"
      },
      "source": [
        "# Распаковка архива на локальный диск colab\n",
        "!unzip -qo genres.zip\n",
        "\n",
        "# Проверка выгруженных папок\n",
        "!ls genres \n",
        "\n",
        "# Проверка содержимого одной папки\n",
        "!ls genres/blues"
      ],
      "execution_count": null,
      "outputs": [
        {
          "output_type": "stream",
          "name": "stdout",
          "text": [
            "blues  classical  country  disco  hiphop  jazz\tmetal  pop  reggae  rock\n",
            "blues.00000.au\tblues.00020.au\tblues.00040.au\tblues.00060.au\tblues.00080.au\n",
            "blues.00001.au\tblues.00021.au\tblues.00041.au\tblues.00061.au\tblues.00081.au\n",
            "blues.00002.au\tblues.00022.au\tblues.00042.au\tblues.00062.au\tblues.00082.au\n",
            "blues.00003.au\tblues.00023.au\tblues.00043.au\tblues.00063.au\tblues.00083.au\n",
            "blues.00004.au\tblues.00024.au\tblues.00044.au\tblues.00064.au\tblues.00084.au\n",
            "blues.00005.au\tblues.00025.au\tblues.00045.au\tblues.00065.au\tblues.00085.au\n",
            "blues.00006.au\tblues.00026.au\tblues.00046.au\tblues.00066.au\tblues.00086.au\n",
            "blues.00007.au\tblues.00027.au\tblues.00047.au\tblues.00067.au\tblues.00087.au\n",
            "blues.00008.au\tblues.00028.au\tblues.00048.au\tblues.00068.au\tblues.00088.au\n",
            "blues.00009.au\tblues.00029.au\tblues.00049.au\tblues.00069.au\tblues.00089.au\n",
            "blues.00010.au\tblues.00030.au\tblues.00050.au\tblues.00070.au\tblues.00090.au\n",
            "blues.00011.au\tblues.00031.au\tblues.00051.au\tblues.00071.au\tblues.00091.au\n",
            "blues.00012.au\tblues.00032.au\tblues.00052.au\tblues.00072.au\tblues.00092.au\n",
            "blues.00013.au\tblues.00033.au\tblues.00053.au\tblues.00073.au\tblues.00093.au\n",
            "blues.00014.au\tblues.00034.au\tblues.00054.au\tblues.00074.au\tblues.00094.au\n",
            "blues.00015.au\tblues.00035.au\tblues.00055.au\tblues.00075.au\tblues.00095.au\n",
            "blues.00016.au\tblues.00036.au\tblues.00056.au\tblues.00076.au\tblues.00096.au\n",
            "blues.00017.au\tblues.00037.au\tblues.00057.au\tblues.00077.au\tblues.00097.au\n",
            "blues.00018.au\tblues.00038.au\tblues.00058.au\tblues.00078.au\tblues.00098.au\n",
            "blues.00019.au\tblues.00039.au\tblues.00059.au\tblues.00079.au\tblues.00099.au\n"
          ]
        }
      ]
    },
    {
      "cell_type": "code",
      "metadata": {
        "id": "RawNC-D9sY1d"
      },
      "source": [
        "# Ваше решение"
      ],
      "execution_count": null,
      "outputs": []
    },
    {
      "cell_type": "code",
      "source": [
        "# Установка констант\n",
        "\n",
        "FILE_DIR = './genres'                     # Папка с файлами датасета\n",
        "CLASS_LIST = os.listdir(FILE_DIR)         # Список классов, порядок меток не определен!\n",
        "CLASS_LIST.sort()                         # Сортировка списка классов для фиксации порядка меток\n",
        "CLASS_COUNT = len(CLASS_LIST)             # Количество классов\n",
        "CLASS_FILES = 100                         # Общее количество файлов в каждом классе\n",
        "FILE_INDEX_TRAIN_SPLIT = 90               # Количество файлов каждого класса на основной набор\n",
        "VALIDATION_SPLIT = 0.1                    # Доля проверочной выборки в основном наборе\n",
        "DURATION_SEC = 30                         # Анализируемая длительность аудиосигнала\n",
        "N_FFT = 8192                              # Размер окна преобразования Фурье для расчета спектра\n",
        "HOP_LENGTH = 512                          # Объем данных для расчета одного набора признаков, получается 1300 векторов аудио в одном аудиофайле 30 сек\n",
        "\n",
        "SEQ_LENGTH = 150                          # Размер последовательности при нарезки\n",
        "SEQ_HOP_LENGTH = 20                       # Размер шага нарезки последовательностей\n",
        "\n"
      ],
      "metadata": {
        "id": "c3EpFOTPZ41E"
      },
      "execution_count": null,
      "outputs": []
    },
    {
      "cell_type": "code",
      "source": [
        "# Проверка списка классов\n",
        "print(CLASS_LIST)"
      ],
      "metadata": {
        "colab": {
          "base_uri": "https://localhost:8080/"
        },
        "id": "7dv1WULlZ44R",
        "outputId": "c9e26039-826a-4aae-f4ac-44a6a67e801f"
      },
      "execution_count": null,
      "outputs": [
        {
          "output_type": "stream",
          "name": "stdout",
          "text": [
            "['blues', 'classical', 'country', 'disco', 'hiphop', 'jazz', 'metal', 'pop', 'reggae', 'rock']\n"
          ]
        }
      ]
    },
    {
      "cell_type": "code",
      "source": [
        "# Функция параметризации аудио\n",
        "\n",
        "def get_features(y,                     # волновое представление сигнала\n",
        "                 sr,                    # частота дискретизации сигнала y\n",
        "                 n_fft=N_FFT,           # размер скользящего окна БПФ\n",
        "                 hop_length=HOP_LENGTH  # шаг скользящего окна БПФ\n",
        "                 ):\n",
        "    # Вычисление различных параметров (признаков) аудио\n",
        "\n",
        "    # Хромаграмма 12 признаков - это 12 нот\n",
        "    chroma_stft = librosa.feature.chroma_stft(y=y, sr=sr, n_fft=n_fft, hop_length=hop_length)\n",
        "    # 1Мел-кепстральные коэффициенты 20 по умолчанию\n",
        "    mfcc = librosa.feature.mfcc(y=y, sr=sr, n_fft=n_fft, hop_length=hop_length)\n",
        "    # 2Среднеквадратическая амплитуда по 1 значению для других признаков\n",
        "    rmse = librosa.feature.rms(y=y, hop_length=hop_length)\n",
        "    # 3Спектральный центроид по 1 значению для других признаков\n",
        "    spec_cent = librosa.feature.spectral_centroid(y=y, sr=sr, n_fft=n_fft, hop_length=hop_length)\n",
        "    # 4Ширина полосы частот по 1 значению для других признаков\n",
        "    spec_bw = librosa.feature.spectral_bandwidth(y=y, sr=sr, n_fft=n_fft, hop_length=hop_length)\n",
        "    # 5Спектральный спад частоты по 1 значению для других признаков\n",
        "    rolloff = librosa.feature.spectral_rolloff(y=y, sr=sr, n_fft=n_fft, hop_length=hop_length)\n",
        "    # 6Пересечения нуля\n",
        "    zcr = librosa.feature.zero_crossing_rate(y, hop_length=hop_length)\n",
        "    \n",
        "    # Сборка параметров в общий список и усреднение по всей песни:\n",
        "    # На один файл один усредненный вектор признаков\n",
        "    features = {'rmse': rmse.mean(axis=1, keepdims=True),\n",
        "                'spct': spec_cent.mean(axis=1, keepdims=True),\n",
        "                'spbw': spec_bw.mean(axis=1, keepdims=True),\n",
        "                'roff': rolloff.mean(axis=1, keepdims=True),\n",
        "                'zcr' : zcr.mean(axis=1, keepdims=True),\n",
        "                'mfcc': mfcc.mean(axis=1, keepdims=True),\n",
        "                'stft': chroma_stft.mean(axis=1, keepdims=True)}\n",
        "\n",
        "    return features"
      ],
      "metadata": {
        "id": "eeoKE3dgZ47i"
      },
      "execution_count": null,
      "outputs": []
    },
    {
      "cell_type": "code",
      "source": [
        "# Функция объединения признаков в набор векторов\n",
        "\n",
        "def stack_features(feat  # словарь признаков, отдельные векторы по ключу каждого признака\n",
        "                   ):\n",
        "    features = None\n",
        "    for v in feat.values():\n",
        "        features = np.vstack((features, v)) if features is not None else v\n",
        "\n",
        "    return features.T"
      ],
      "metadata": {
        "id": "vJQPC5_1Z4-s"
      },
      "execution_count": null,
      "outputs": []
    },
    {
      "cell_type": "code",
      "source": [
        "# проверка параметризации одного произведения\n",
        "y, sr = librosa.load(f'{FILE_DIR}/blues/blues.00000.au', mono = True, duration = DURATION_SEC)\n",
        "\n",
        "print('Волна', y.shape)\n",
        "print('Частота дискретизации', sr)\n",
        "print('Длительность сигнала', y.shape[0]/sr, 'секунд \\n')\n",
        "\n",
        "plt.style.use('ggplot')\n",
        "plt.figure(figsize = (12, 3))\n",
        "plt.plot(y[:1000]) #первые 1000 значений амплитуды сигналов\n",
        "plt.show()\n"
      ],
      "metadata": {
        "colab": {
          "base_uri": "https://localhost:8080/",
          "height": 279
        },
        "id": "Zp-dSa9S7N6X",
        "outputId": "194a8090-ef9a-4403-e5d2-b9a1f3f8d289"
      },
      "execution_count": null,
      "outputs": [
        {
          "output_type": "stream",
          "name": "stdout",
          "text": [
            "Волна (661500,)\n",
            "Частота дискретизации 22050\n",
            "Длительность сигнала 30.0 секунд \n",
            "\n"
          ]
        },
        {
          "output_type": "display_data",
          "data": {
            "text/plain": [
              "<Figure size 864x216 with 1 Axes>"
            ],
            "image/png": "[encoded data removed]"
          },
          "metadata": {}
        }
      ]
    },
    {
      "cell_type": "code",
      "source": [
        "# Извлечение параметров из аудиосигнала\n",
        "features = get_features(y, sr)\n",
        "print({k: v.shape for k, v in features.items()})\n",
        "\n"
      ],
      "metadata": {
        "colab": {
          "base_uri": "https://localhost:8080/"
        },
        "id": "z0GGMBmX7N-n",
        "outputId": "c1a15fc3-86ec-4dab-8400-61b004f93714"
      },
      "execution_count": null,
      "outputs": [
        {
          "output_type": "stream",
          "name": "stdout",
          "text": [
            "{'rmse': (1, 1), 'spct': (1, 1), 'spbw': (1, 1), 'roff': (1, 1), 'zcr': (1, 1), 'mfcc': (20, 1), 'stft': (12, 1)}\n"
          ]
        }
      ]
    },
    {
      "cell_type": "code",
      "source": [
        "# транспонирует строки столбцами а столбцы строками\n",
        "feature_set = stack_features(features)\n",
        "feature_set.shape"
      ],
      "metadata": {
        "colab": {
          "base_uri": "https://localhost:8080/"
        },
        "id": "lewBClAT_hrk",
        "outputId": "38f6aefa-dcd6-41c0-9b62-e642afa57497"
      },
      "execution_count": null,
      "outputs": [
        {
          "output_type": "execute_result",
          "data": {
            "text/plain": [
              "(1, 37)"
            ]
          },
          "metadata": {},
          "execution_count": 10
        }
      ]
    },
    {
      "cell_type": "code",
      "source": [
        "feature_set[0]"
      ],
      "metadata": {
        "colab": {
          "base_uri": "https://localhost:8080/"
        },
        "id": "HlY5ev4N_w-o",
        "outputId": "7ea7c248-0efb-421e-ddbd-e4060352029e"
      },
      "execution_count": null,
      "outputs": [
        {
          "output_type": "execute_result",
          "data": {
            "text/plain": [
              "array([ 1.30224630e-01,  1.81538390e+03,  2.02407957e+03,  3.86143498e+03,\n",
              "        8.30663911e-02,  4.45649567e+01,  1.28035797e+02, -2.23348103e+01,\n",
              "        4.18042336e+01, -9.72531986e+00,  1.98680515e+01, -1.74135780e+01,\n",
              "        1.76154556e+01, -1.46662998e+01,  1.27859850e+01, -1.06820002e+01,\n",
              "        1.18023500e+01, -5.16585684e+00,  7.78427172e+00, -7.35019302e+00,\n",
              "        2.49901366e+00, -3.37611985e+00,  1.30031204e+00, -3.79941535e+00,\n",
              "        2.28564262e+00,  3.78360391e-01,  3.61972690e-01,  4.67484891e-01,\n",
              "        2.39600882e-01,  2.46317670e-01,  3.56771946e-01,  3.71764511e-01,\n",
              "        4.89738643e-01,  2.85779864e-01,  3.10171574e-01,  4.18150812e-01,\n",
              "        3.84085506e-01])"
            ]
          },
          "metadata": {},
          "execution_count": 12
        }
      ]
    },
    {
      "cell_type": "code",
      "source": [
        "# Функция формирования набора признаков и метки класса для аудиофайла\n",
        "\n",
        "def get_feature_list_from_file(class_index,  # индекс класса файла song_name\n",
        "                               song_name,    # имя аудиофайла\n",
        "                               duration_sec  # длительность аудио в секундах\n",
        "                               ):\n",
        "    # Загрузка в y первых duration_sec секунд аудиосигнала\n",
        "    y, sr = librosa.load(song_name, mono=True, duration=duration_sec)\n",
        "\n",
        "    # Извлечение параметров из аудиосигнала\n",
        "    features = get_features(y, sr)\n",
        "    feature_set = stack_features(features)\n",
        "\n",
        "    # Перевод номера класса в one hot encoding\n",
        "    y_label = to_categorical(class_index, CLASS_COUNT)\n",
        "\n",
        "    return feature_set, y_label"
      ],
      "metadata": {
        "id": "i4qSv4tZbuQO"
      },
      "execution_count": null,
      "outputs": []
    },
    {
      "cell_type": "code",
      "source": [
        "# Функция формирования подвыборки признаков и меток класса для одного файла\n",
        "\n",
        "def process_file(class_index,  # индекс класса аудиофайла\n",
        "                 file_index,   # индекс (порядковый номер) аудиофайла в папке класса\n",
        "                 duration_sec  # длительность аудио в секундах\n",
        "                 ):\n",
        "    x_list = []\n",
        "    y_list = []\n",
        "    class_name = CLASS_LIST[class_index]\n",
        "\n",
        "    # Извлечение имени произведения\n",
        "    song_name = f'{FILE_DIR}/{class_name}/{class_name}.{str(file_index).zfill(5)}.au'\n",
        "\n",
        "    # Выборка признаков и метки класса для произведения\n",
        "    feature_set, y_label = get_feature_list_from_file(class_index, \n",
        "                                                        song_name,\n",
        "                                                        duration_sec)\n",
        "\n",
        "    # Добавление данных в наборы нарезка набора признаков файла на последовательности\n",
        "    feature_len = feature_set.shape[0]\n",
        "    x_list = [feature_set[i:i+SEQ_LENGTH] for i in range(0, feature_len - SEQ_LENGTH + 1, SEQ_HOP_LENGTH)]\n",
        "\n",
        "    # Добавление верных меток класса по числу последовательностей\n",
        "    y_list = [y_label] * len(x_list)\n",
        "\n",
        "\n",
        "    for j in range(feature_set.shape[0]):\n",
        "        x_list.append(feature_set[j])\n",
        "        y_list.append(y_label)\n",
        "\n",
        "    # Возврат имени файла и numpy-массивов призанков и меток класса\n",
        "    return song_name, \\\n",
        "           np.array(x_list).astype('float32'), \\\n",
        "           np.array(y_list).astype('float32')"
      ],
      "metadata": {
        "id": "eAxMwypTbuUT"
      },
      "execution_count": null,
      "outputs": []
    },
    {
      "cell_type": "code",
      "source": [
        "# Функция формирования набора данных из файлов всех классов по диапазону номеров файлов\n",
        "\n",
        "def extract_data(file_index_start,          # начальный индекс аудиофайла\n",
        "                 file_index_end,            # конечный индекс аудиофайла (не достигая)\n",
        "                 duration_sec=DURATION_SEC  # длительность аудио в секундах\n",
        "                 ):\n",
        "\n",
        "    # Списки для последовательностей входных данных и меток класса\n",
        "    x_data = None\n",
        "    y_data = None\n",
        "\n",
        "    # Фиксация времени старта формирования выборки\n",
        "    curr_time = time.time()\n",
        "\n",
        "    # Для всех классов:\n",
        "    for class_index in range(len(CLASS_LIST)):\n",
        "        # Для всех файлов текущего класса из заданного диапазона номеров:\n",
        "        for file_index in range(file_index_start, file_index_end):\n",
        "            # Обработка одного файла и добавление данных к общим массивам\n",
        "            _, file_x_data, file_y_data = process_file(class_index, file_index, duration_sec)\n",
        "            x_data = file_x_data if x_data is None else np.vstack([x_data, file_x_data])\n",
        "            y_data = file_y_data if y_data is None else np.vstack([y_data, file_y_data])\n",
        "\n",
        "        # Вывод информации о готовности обработки датасета\n",
        "        print(f'Жанр {CLASS_LIST[class_index]} готов -> {round(time.time() - curr_time)} c')\n",
        "        curr_time = time.time()\n",
        "\n",
        "    # Возврат массивов набора данных\n",
        "    return x_data, y_data"
      ],
      "metadata": {
        "id": "QjQFzmX_buX8"
      },
      "execution_count": null,
      "outputs": []
    },
    {
      "cell_type": "code",
      "source": [
        "# формирование тренировочного набора данных\n",
        "\n",
        "x_train_data, y_train_data = extract_data(0, FILE_INDEX_TRAIN_SPLIT)"
      ],
      "metadata": {
        "colab": {
          "base_uri": "https://localhost:8080/"
        },
        "id": "XxKE_EPpEdWZ",
        "outputId": "ec18f3a5-a658-46c8-96e3-e2930abfe013"
      },
      "execution_count": null,
      "outputs": [
        {
          "output_type": "stream",
          "name": "stdout",
          "text": [
            "Жанр blues готов -> 120 c\n",
            "Жанр classical готов -> 118 c\n",
            "Жанр country готов -> 118 c\n",
            "Жанр disco готов -> 115 c\n",
            "Жанр hiphop готов -> 124 c\n",
            "Жанр jazz готов -> 118 c\n",
            "Жанр metal готов -> 115 c\n",
            "Жанр pop готов -> 115 c\n",
            "Жанр reggae готов -> 115 c\n",
            "Жанр rock готов -> 114 c\n"
          ]
        }
      ]
    },
    {
      "cell_type": "code",
      "source": [
        "# загрузка подготовленных данных\n",
        "gdown.download('https://storage.yandexcloud.net/aiueducation/Content/base/l12/audio_data_seq100.pickle', None, quiet=True)"
      ],
      "metadata": {
        "colab": {
          "base_uri": "https://localhost:8080/",
          "height": 37
        },
        "id": "du1qPjavG6Fi",
        "outputId": "d1ef89f9-e84c-4216-b9dc-82ac1e1f95d9"
      },
      "execution_count": null,
      "outputs": [
        {
          "output_type": "execute_result",
          "data": {
            "text/plain": [
              "'audio_data_seq100.pickle'"
            ],
            "application/vnd.google.colaboratory.intrinsic+json": {
              "type": "string"
            }
          },
          "metadata": {},
          "execution_count": 17
        }
      ]
    },
    {
      "cell_type": "code",
      "source": [
        "# Восстановление датасета аудио\n",
        "# Данные привязаны к порядку следования меток классов!\n",
        "# Порядок классов фиксирован сортировкой списка меток классов\n",
        "\n",
        "with open('audio_data_seq100.pickle', 'rb') as f:\n",
        "    x_train_data, y_train_data = pickle.load(f)"
      ],
      "metadata": {
        "id": "DXCz8Wf4G6I8"
      },
      "execution_count": null,
      "outputs": []
    },
    {
      "cell_type": "code",
      "source": [
        "print(x_train_data.shape, y_train_data.shape)"
      ],
      "metadata": {
        "colab": {
          "base_uri": "https://localhost:8080/"
        },
        "id": "C4sXHfpnG6Mi",
        "outputId": "65eb5a0c-7d56-45ac-9741-931529052202"
      },
      "execution_count": null,
      "outputs": [
        {
          "output_type": "stream",
          "name": "stdout",
          "text": [
            "(54000, 100, 25) (54000, 10)\n"
          ]
        }
      ]
    },
    {
      "cell_type": "code",
      "source": [
        "# формирование тестовой выборки из файлов не вошедших в основной набор\n",
        "\n",
        "x_test, y_test = extract_data(FILE_INDEX_TRAIN_SPLIT, CLASS_FILES)"
      ],
      "metadata": {
        "colab": {
          "base_uri": "https://localhost:8080/"
        },
        "id": "NfcR6hcLG6Px",
        "outputId": "d4b4cc58-ab75-4042-961c-d095583f5033"
      },
      "execution_count": null,
      "outputs": [
        {
          "output_type": "stream",
          "name": "stdout",
          "text": [
            "Жанр blues готов -> 12 c\n",
            "Жанр classical готов -> 12 c\n",
            "Жанр country готов -> 13 c\n",
            "Жанр disco готов -> 12 c\n",
            "Жанр hiphop готов -> 14 c\n",
            "Жанр jazz готов -> 13 c\n",
            "Жанр metal готов -> 13 c\n",
            "Жанр pop готов -> 12 c\n",
            "Жанр reggae готов -> 12 c\n",
            "Жанр rock готов -> 13 c\n"
          ]
        }
      ]
    },
    {
      "cell_type": "code",
      "source": [
        "# Восстановление датасета аудио\n",
        "# Данные привязаны к порядку следования меток классов!\n",
        "# Порядок классов фиксирован сортировкой списка меток классов\n",
        "\n",
        "with open('audio_data_seq100.pickle', 'rb') as f:\n",
        "    x_test_data, y_test_data = pickle.load(f)"
      ],
      "metadata": {
        "id": "9k9lzmlhfIMM"
      },
      "execution_count": null,
      "outputs": []
    },
    {
      "cell_type": "code",
      "source": [
        "x_train = x_train_data\n",
        "y_train = y_train_data"
      ],
      "metadata": {
        "id": "74pWcQlTewcb"
      },
      "execution_count": null,
      "outputs": []
    },
    {
      "cell_type": "code",
      "source": [
        "x_test = x_test_data\n",
        "y_test = y_test_data"
      ],
      "metadata": {
        "id": "45f6W-LMfV1T"
      },
      "execution_count": null,
      "outputs": []
    },
    {
      "cell_type": "code",
      "source": [
        "print(x_train.shape, x_train.dtype)\n",
        "print(y_train.shape, y_train.dtype)\n",
        "print()\n",
        "print(x_test.shape, x_test.dtype)\n",
        "print(y_test.shape, y_test.dtype)"
      ],
      "metadata": {
        "colab": {
          "base_uri": "https://localhost:8080/"
        },
        "id": "QUkMJfoVe3Tu",
        "outputId": "a2ff7370-8dd9-4f46-dd19-1bb3be71f4a1"
      },
      "execution_count": null,
      "outputs": [
        {
          "output_type": "stream",
          "name": "stdout",
          "text": [
            "(54000, 100, 25) float32\n",
            "(54000, 10) float32\n",
            "\n",
            "(54000, 100, 25) float32\n",
            "(54000, 10) float32\n"
          ]
        }
      ]
    },
    {
      "cell_type": "code",
      "source": [
        "print(x_test_data.shape, y_test_data.shape)"
      ],
      "metadata": {
        "colab": {
          "base_uri": "https://localhost:8080/"
        },
        "id": "iyNP-3QJeWUj",
        "outputId": "b0724da8-5dcf-4b22-c07e-bb0646802384"
      },
      "execution_count": null,
      "outputs": [
        {
          "output_type": "stream",
          "name": "stdout",
          "text": [
            "(54000, 100, 25) (54000, 10)\n"
          ]
        }
      ]
    },
    {
      "cell_type": "code",
      "source": [
        "# Вывод графиков точности и ошибки распознавания на обучающей и проверочной выборках\n",
        "\n",
        "def show_history(history  # объект-результат метода обучения .fit()\n",
        "                 ):\n",
        "    fig, (ax1, ax2) = plt.subplots(1, 2, figsize=(20, 5))\n",
        "    fig.suptitle('График процесса обучения модели')\n",
        "    ax1.plot(history.history['accuracy'], \n",
        "               label='Доля верных ответов на обучающем наборе')\n",
        "    ax1.plot(history.history['val_accuracy'], \n",
        "               label='Доля верных ответов на проверочном наборе')\n",
        "    ax1.xaxis.get_major_locator().set_params(integer=True)\n",
        "    ax1.set_xlabel('Эпоха обучения')\n",
        "    ax1.set_ylabel('Доля верных ответов')\n",
        "    ax1.legend()\n",
        "\n",
        "    ax2.plot(history.history['loss'], \n",
        "               label='Ошибка на обучающем наборе')\n",
        "    ax2.plot(history.history['val_loss'], \n",
        "               label='Ошибка на проверочном наборе')\n",
        "    ax2.xaxis.get_major_locator().set_params(integer=True)\n",
        "    ax2.set_xlabel('Эпоха обучения')\n",
        "    ax2.set_ylabel('Ошибка')\n",
        "    ax2.legend()\n",
        "    plt.show()"
      ],
      "metadata": {
        "id": "p9YITCa5LuNR"
      },
      "execution_count": null,
      "outputs": []
    },
    {
      "cell_type": "code",
      "source": [
        "# Функция оценки точности модели на заданной выборке\n",
        "\n",
        "def eval_model(model,  # обученная модель нейронной сети\n",
        "               x,      # входные данные\n",
        "               y_true  # выходные данные (верные ответы)\n",
        "               ):\n",
        "    loss, acc = model.evaluate(x, y_true)\n",
        "    print(f'Ошибка: {loss}, точность: {acc}')\n",
        "\n",
        "    # Построение матрицы ошибок\n",
        "    y_pred = model.predict(x)\n",
        "    cm = confusion_matrix(np.argmax(y_true, axis=1),\n",
        "                          np.argmax(y_pred, axis=1),\n",
        "                          normalize='true')\n",
        "\n",
        "    # Отрисовка матрицы ошибок\n",
        "    fig, ax = plt.subplots(figsize=(10, 10))\n",
        "    ax.set_title('Матрица ошибок нормализованная')\n",
        "    disp = ConfusionMatrixDisplay(confusion_matrix=cm, display_labels=CLASS_LIST)\n",
        "    disp.plot(ax=ax)\n",
        "    plt.show()    "
      ],
      "metadata": {
        "id": "kz-KXCodLuUf"
      },
      "execution_count": null,
      "outputs": []
    },
    {
      "cell_type": "code",
      "source": [
        "# Классификация файла и визуализация предсказания модели для него\n",
        "\n",
        "def classify_file(model,        # обученная модель классификатора\n",
        "                  class_index,  # верный индекс класса аудиофайла\n",
        "                  file_index    # индекс (порядковый номер) аудиофайла в папке\n",
        "                  ):\n",
        "    # Подготовка выборки данных файла произведения\n",
        "    song_name, file_x_data, file_y_data = process_file(class_index, file_index, DURATION_SEC)\n",
        " \n",
        "\n",
        "    print('Файл:', song_name)\n",
        "    print('Векторы для предсказания:', file_x_data.shape)\n",
        "\n",
        "    # Вычисление предсказания по выборке\n",
        "    predict = model.predict(file_x_data)\n",
        "    # Определение среднего предсказания (голосование)\n",
        "    predict_mean = predict.mean(axis=0)\n",
        "    # Определение индекса класса по результату голосования\n",
        "    predict_class_index = np.argmax(predict_mean)\n",
        "    # Вычисление признака правильного предсказания\n",
        "    predict_good = predict_class_index == class_index\n",
        "\n",
        "    # Визуализация предсказания сети для файла\n",
        "    plt.figure(figsize=(10,3))\n",
        "    print('Классификация сети:', CLASS_LIST[predict_class_index], '-', 'ВЕРНО :-)' if predict_good else 'НЕВЕРНО.')\n",
        "    plt.title('Среднее распределение векторов предсказаний')\n",
        "    plt.bar(CLASS_LIST, predict_mean, color='g' if predict_good else 'r')\n",
        "    plt.show()\n",
        "    print('---------------------------------------------------------------')\n",
        "\n",
        "    # Возврат результата предсказания\n",
        "    return predict_class_index"
      ],
      "metadata": {
        "id": "nILV5Y9jL5bf"
      },
      "execution_count": null,
      "outputs": []
    },
    {
      "cell_type": "code",
      "source": [
        "# Классификация и визуализация нескольких файлов каждого класса \n",
        "\n",
        "def classify_test_files(model,       # обученная модель классификатора\n",
        "                        from_index,  # индекс аудиофайла, с которого начинать визуализацию\n",
        "                        n_files):    # количество файлов для визуализации\n",
        "    predict_all = 0\n",
        "    predict_good = 0\n",
        "    y_true = []\n",
        "    y_pred = []\n",
        "    for class_index in range(CLASS_COUNT):\n",
        "        for file_index in range(from_index, from_index + n_files):\n",
        "            predict_class_index = classify_file(model, class_index, file_index)\n",
        "            y_true.append(class_index)\n",
        "            y_pred.append(predict_class_index)\n",
        "            predict_all += 1\n",
        "            predict_good += (predict_class_index == class_index)\n",
        "\n",
        "    # Расчет и вывод итогов классификации\n",
        "    good_ratio = round(predict_good / predict_all * 100., 2)\n",
        "    print(f'=== Обработано образцов: {predict_all}, из них распознано верно: {predict_good}, доля верных: {good_ratio}% ===')   \n",
        "\n",
        "    # Построение матрицы ошибок без нормализации, покажет попадания в штуках\n",
        "    cm = confusion_matrix(y_true, y_pred)\n",
        "\n",
        "    # Отрисовка матрицы ошибок\n",
        "    fig, ax = plt.subplots(figsize=(10, 10))\n",
        "    ax.set_title('Матрица ошибок по файлам аудио (не нормализованная)')\n",
        "    disp = ConfusionMatrixDisplay(confusion_matrix=cm, display_labels=CLASS_LIST)\n",
        "    disp.plot(ax=ax)\n",
        "    plt.show()"
      ],
      "metadata": {
        "id": "im19HbGYL5fT"
      },
      "execution_count": null,
      "outputs": []
    },
    {
      "cell_type": "code",
      "source": [
        "def create_model():\n",
        "    # Последовательная модель нейронной сети\n",
        "    model = Sequential()\n",
        "    \n",
        "    # Входной слой\n",
        "    model.add(Input(shape=x_train.shape[1:]))\n",
        "\n",
        "    # Первый сверточный блок\n",
        "    model.add(BatchNormalization())\n",
        "    model.add(Conv1D(256, (3,), activation='relu'))\n",
        "    model.add(MaxPooling1D(2))\n",
        "    \n",
        "\n",
        "    # Второй сверточный блок\n",
        "    model.add(BatchNormalization())\n",
        "    model.add(Conv1D(256, (3,), activation='relu'))\n",
        "    model.add(MaxPooling1D(3))\n",
        "   \n",
        "\n",
        "    # Третий сверточный блок\n",
        "    model.add(BatchNormalization())\n",
        "    model.add(Conv1D(256, (2,), activation='relu'))\n",
        "    model.add(MaxPooling1D(2))\n",
        "    \n",
        "\n",
        "    # Полносвязный блок\n",
        "    model.add(Flatten())\n",
        "    model.add(BatchNormalization())\n",
        "    model.add(Dense(512, activation='relu'))\n",
        "    model.add(Dropout(0.6))\n",
        "\n",
        "    # Финальный слой классификации\n",
        "    model.add(Dense(CLASS_COUNT, activation='softmax'))\n",
        "\n",
        "    return model"
      ],
      "metadata": {
        "id": "tJcIGCqJfpvx"
      },
      "execution_count": null,
      "outputs": []
    },
    {
      "cell_type": "code",
      "source": [
        "# Используем для работы с категориальными данными\n",
        "from tensorflow.keras import utils "
      ],
      "metadata": {
        "id": "Pvh0PLx3cxV_"
      },
      "execution_count": null,
      "outputs": []
    },
    {
      "cell_type": "code",
      "source": [
        "model = create_model()"
      ],
      "metadata": {
        "id": "vqQ8G8h5iSrd"
      },
      "execution_count": null,
      "outputs": []
    },
    {
      "cell_type": "code",
      "source": [
        "\n",
        "model.summary()"
      ],
      "metadata": {
        "colab": {
          "base_uri": "https://localhost:8080/"
        },
        "id": "qpbhWmc0iHOj",
        "outputId": "1455dacc-3e4c-4e5b-e5e9-e0c4d588b948"
      },
      "execution_count": null,
      "outputs": [
        {
          "output_type": "stream",
          "name": "stdout",
          "text": [
            "Model: \"sequential_4\"\n",
            "_________________________________________________________________\n",
            " Layer (type)                Output Shape              Param #   \n",
            "=================================================================\n",
            " batch_normalization_13 (Bat  (None, 100, 25)          100       \n",
            " chNormalization)                                                \n",
            "                                                                 \n",
            " conv1d_12 (Conv1D)          (None, 98, 256)           19456     \n",
            "                                                                 \n",
            " max_pooling1d_12 (MaxPoolin  (None, 49, 256)          0         \n",
            " g1D)                                                            \n",
            "                                                                 \n",
            " batch_normalization_14 (Bat  (None, 49, 256)          1024      \n",
            " chNormalization)                                                \n",
            "                                                                 \n",
            " conv1d_13 (Conv1D)          (None, 47, 256)           196864    \n",
            "                                                                 \n",
            " max_pooling1d_13 (MaxPoolin  (None, 15, 256)          0         \n",
            " g1D)                                                            \n",
            "                                                                 \n",
            " batch_normalization_15 (Bat  (None, 15, 256)          1024      \n",
            " chNormalization)                                                \n",
            "                                                                 \n",
            " conv1d_14 (Conv1D)          (None, 14, 256)           131328    \n",
            "                                                                 \n",
            " max_pooling1d_14 (MaxPoolin  (None, 7, 256)           0         \n",
            " g1D)                                                            \n",
            "                                                                 \n",
            " flatten_4 (Flatten)         (None, 1792)              0         \n",
            "                                                                 \n",
            " batch_normalization_16 (Bat  (None, 1792)             7168      \n",
            " chNormalization)                                                \n",
            "                                                                 \n",
            " dense_8 (Dense)             (None, 512)               918016    \n",
            "                                                                 \n",
            " dropout_4 (Dropout)         (None, 512)               0         \n",
            "                                                                 \n",
            " dense_9 (Dense)             (None, 10)                5130      \n",
            "                                                                 \n",
            "=================================================================\n",
            "Total params: 1,280,110\n",
            "Trainable params: 1,275,452\n",
            "Non-trainable params: 4,658\n",
            "_________________________________________________________________\n"
          ]
        }
      ]
    },
    {
      "cell_type": "code",
      "source": [
        "utils.plot_model(model, dpi=60)"
      ],
      "metadata": {
        "colab": {
          "base_uri": "https://localhost:8080/",
          "height": 906
        },
        "id": "pc7pa_XCcxZT",
        "outputId": "7b9b47a1-702d-4295-b272-c97bd4030515"
      },
      "execution_count": null,
      "outputs": [
        {
          "output_type": "execute_result",
          "data": {
            "image/png": "[encoded data removed]",
            "text/plain": [
              "<IPython.core.display.Image object>"
            ]
          },
          "metadata": {},
          "execution_count": 74
        }
      ]
    },
    {
      "cell_type": "code",
      "source": [
        "# 'sparse_categorical_crossentropy' потому что подаём числа больше единицы\n",
        "\n",
        "model.compile(optimizer=Adam(learning_rate=1e-4),\n",
        "              loss='categorical_crossentropy',\n",
        "              metrics='accuracy')\n",
        "\n"
      ],
      "metadata": {
        "id": "ZLhXNhBgcxcB"
      },
      "execution_count": null,
      "outputs": []
    },
    {
      "cell_type": "code",
      "source": [
        "history = model.fit(x_train,\n",
        "                    y_train,\n",
        "                    epochs=50,\n",
        "                    batch_size=37,\n",
        "                    validation_data=(x_test, y_test),\n",
        "                    verbose = 1)\n",
        "                   \n",
        "\n",
        "show_history(history)"
      ],
      "metadata": {
        "colab": {
          "base_uri": "https://localhost:8080/",
          "height": 1000
        },
        "id": "aP1tcx44c_KX",
        "outputId": "631d9e10-c094-4e6d-fd14-2b97925cd57e"
      },
      "execution_count": null,
      "outputs": [
        {
          "output_type": "stream",
          "name": "stdout",
          "text": [
            "Epoch 1/50\n",
            "1460/1460 [==============================] - 19s 12ms/step - loss: 1.3208 - accuracy: 0.5755 - val_loss: 0.4993 - val_accuracy: 0.8294\n",
            "Epoch 2/50\n",
            "1460/1460 [==============================] - 15s 10ms/step - loss: 0.6916 - accuracy: 0.7634 - val_loss: 0.2601 - val_accuracy: 0.9159\n",
            "Epoch 3/50\n",
            "1460/1460 [==============================] - 14s 10ms/step - loss: 0.4700 - accuracy: 0.8371 - val_loss: 0.1659 - val_accuracy: 0.9479\n",
            "Epoch 4/50\n",
            "1460/1460 [==============================] - 15s 10ms/step - loss: 0.3377 - accuracy: 0.8832 - val_loss: 0.1158 - val_accuracy: 0.9637\n",
            "Epoch 5/50\n",
            "1460/1460 [==============================] - 15s 10ms/step - loss: 0.2658 - accuracy: 0.9068 - val_loss: 0.0766 - val_accuracy: 0.9763\n",
            "Epoch 6/50\n",
            "1460/1460 [==============================] - 15s 10ms/step - loss: 0.2143 - accuracy: 0.9246 - val_loss: 0.0558 - val_accuracy: 0.9839\n",
            "Epoch 7/50\n",
            "1460/1460 [==============================] - 14s 10ms/step - loss: 0.1744 - accuracy: 0.9387 - val_loss: 0.0420 - val_accuracy: 0.9879\n",
            "Epoch 8/50\n",
            "1460/1460 [==============================] - 15s 10ms/step - loss: 0.1545 - accuracy: 0.9446 - val_loss: 0.0347 - val_accuracy: 0.9897\n",
            "Epoch 9/50\n",
            "1460/1460 [==============================] - 14s 10ms/step - loss: 0.1352 - accuracy: 0.9528 - val_loss: 0.0278 - val_accuracy: 0.9922\n",
            "Epoch 10/50\n",
            "1460/1460 [==============================] - 14s 10ms/step - loss: 0.1197 - accuracy: 0.9579 - val_loss: 0.0181 - val_accuracy: 0.9955\n",
            "Epoch 11/50\n",
            "1460/1460 [==============================] - 15s 10ms/step - loss: 0.1061 - accuracy: 0.9628 - val_loss: 0.0197 - val_accuracy: 0.9944\n",
            "Epoch 12/50\n",
            "1460/1460 [==============================] - 14s 10ms/step - loss: 0.0983 - accuracy: 0.9656 - val_loss: 0.0161 - val_accuracy: 0.9951\n",
            "Epoch 13/50\n",
            "1460/1460 [==============================] - 15s 10ms/step - loss: 0.0870 - accuracy: 0.9690 - val_loss: 0.0083 - val_accuracy: 0.9978\n",
            "Epoch 14/50\n",
            "1460/1460 [==============================] - 15s 10ms/step - loss: 0.0869 - accuracy: 0.9704 - val_loss: 0.0132 - val_accuracy: 0.9960\n",
            "Epoch 15/50\n",
            "1460/1460 [==============================] - 15s 11ms/step - loss: 0.0774 - accuracy: 0.9733 - val_loss: 0.0143 - val_accuracy: 0.9954\n",
            "Epoch 16/50\n",
            "1460/1460 [==============================] - 15s 10ms/step - loss: 0.0744 - accuracy: 0.9738 - val_loss: 0.0078 - val_accuracy: 0.9976\n",
            "Epoch 17/50\n",
            "1460/1460 [==============================] - 14s 10ms/step - loss: 0.0672 - accuracy: 0.9767 - val_loss: 0.0089 - val_accuracy: 0.9971\n",
            "Epoch 18/50\n",
            "1460/1460 [==============================] - 14s 10ms/step - loss: 0.0649 - accuracy: 0.9770 - val_loss: 0.0079 - val_accuracy: 0.9976\n",
            "Epoch 19/50\n",
            "1460/1460 [==============================] - 14s 10ms/step - loss: 0.0614 - accuracy: 0.9789 - val_loss: 0.0095 - val_accuracy: 0.9972\n",
            "Epoch 20/50\n",
            "1460/1460 [==============================] - 14s 10ms/step - loss: 0.0583 - accuracy: 0.9803 - val_loss: 0.0079 - val_accuracy: 0.9973\n",
            "Epoch 21/50\n",
            "1460/1460 [==============================] - 15s 10ms/step - loss: 0.0543 - accuracy: 0.9811 - val_loss: 0.0070 - val_accuracy: 0.9975\n",
            "Epoch 22/50\n",
            "1460/1460 [==============================] - 14s 10ms/step - loss: 0.0543 - accuracy: 0.9814 - val_loss: 0.0077 - val_accuracy: 0.9976\n",
            "Epoch 23/50\n",
            "1460/1460 [==============================] - 14s 10ms/step - loss: 0.0536 - accuracy: 0.9812 - val_loss: 0.0069 - val_accuracy: 0.9978\n",
            "Epoch 24/50\n",
            "1460/1460 [==============================] - 14s 10ms/step - loss: 0.0496 - accuracy: 0.9833 - val_loss: 0.0060 - val_accuracy: 0.9977\n",
            "Epoch 25/50\n",
            "1460/1460 [==============================] - 14s 10ms/step - loss: 0.0468 - accuracy: 0.9837 - val_loss: 0.0047 - val_accuracy: 0.9982\n",
            "Epoch 26/50\n",
            "1460/1460 [==============================] - 14s 10ms/step - loss: 0.0415 - accuracy: 0.9851 - val_loss: 0.0049 - val_accuracy: 0.9981\n",
            "Epoch 27/50\n",
            "1460/1460 [==============================] - 14s 10ms/step - loss: 0.0448 - accuracy: 0.9837 - val_loss: 0.0050 - val_accuracy: 0.9980\n",
            "Epoch 28/50\n",
            "1460/1460 [==============================] - 15s 10ms/step - loss: 0.0393 - accuracy: 0.9866 - val_loss: 0.0047 - val_accuracy: 0.9981\n",
            "Epoch 29/50\n",
            "1460/1460 [==============================] - 14s 10ms/step - loss: 0.0369 - accuracy: 0.9870 - val_loss: 0.0034 - val_accuracy: 0.9986\n",
            "Epoch 30/50\n",
            "1460/1460 [==============================] - 15s 10ms/step - loss: 0.0439 - accuracy: 0.9851 - val_loss: 0.0043 - val_accuracy: 0.9984\n",
            "Epoch 31/50\n",
            "1460/1460 [==============================] - 15s 10ms/step - loss: 0.0367 - accuracy: 0.9874 - val_loss: 0.0041 - val_accuracy: 0.9983\n",
            "Epoch 32/50\n",
            "1460/1460 [==============================] - 14s 10ms/step - loss: 0.0372 - accuracy: 0.9875 - val_loss: 0.0052 - val_accuracy: 0.9980\n",
            "Epoch 33/50\n",
            "1460/1460 [==============================] - 15s 10ms/step - loss: 0.0373 - accuracy: 0.9871 - val_loss: 0.0030 - val_accuracy: 0.9987\n",
            "Epoch 34/50\n",
            "1460/1460 [==============================] - 14s 10ms/step - loss: 0.0363 - accuracy: 0.9876 - val_loss: 0.0033 - val_accuracy: 0.9987\n",
            "Epoch 35/50\n",
            "1460/1460 [==============================] - 14s 10ms/step - loss: 0.0347 - accuracy: 0.9880 - val_loss: 0.0033 - val_accuracy: 0.9986\n",
            "Epoch 36/50\n",
            "1460/1460 [==============================] - 14s 10ms/step - loss: 0.0345 - accuracy: 0.9879 - val_loss: 0.0043 - val_accuracy: 0.9982\n",
            "Epoch 37/50\n",
            "1460/1460 [==============================] - 14s 10ms/step - loss: 0.0304 - accuracy: 0.9892 - val_loss: 0.0046 - val_accuracy: 0.9980\n",
            "Epoch 38/50\n",
            "1460/1460 [==============================] - 14s 10ms/step - loss: 0.0335 - accuracy: 0.9884 - val_loss: 0.0078 - val_accuracy: 0.9969\n",
            "Epoch 39/50\n",
            "1460/1460 [==============================] - 15s 10ms/step - loss: 0.0319 - accuracy: 0.9890 - val_loss: 0.0035 - val_accuracy: 0.9984\n",
            "Epoch 40/50\n",
            "1460/1460 [==============================] - 15s 10ms/step - loss: 0.0317 - accuracy: 0.9884 - val_loss: 0.0040 - val_accuracy: 0.9984\n",
            "Epoch 41/50\n",
            "1460/1460 [==============================] - 15s 10ms/step - loss: 0.0288 - accuracy: 0.9903 - val_loss: 0.0045 - val_accuracy: 0.9981\n",
            "Epoch 42/50\n",
            "1460/1460 [==============================] - 14s 10ms/step - loss: 0.0298 - accuracy: 0.9900 - val_loss: 0.0051 - val_accuracy: 0.9981\n",
            "Epoch 43/50\n",
            "1460/1460 [==============================] - 15s 10ms/step - loss: 0.0312 - accuracy: 0.9894 - val_loss: 0.0031 - val_accuracy: 0.9985\n",
            "Epoch 44/50\n",
            "1460/1460 [==============================] - 14s 10ms/step - loss: 0.0271 - accuracy: 0.9903 - val_loss: 0.0032 - val_accuracy: 0.9986\n",
            "Epoch 45/50\n",
            "1460/1460 [==============================] - 15s 10ms/step - loss: 0.0301 - accuracy: 0.9897 - val_loss: 0.0073 - val_accuracy: 0.9970\n",
            "Epoch 46/50\n",
            "1460/1460 [==============================] - 15s 10ms/step - loss: 0.0281 - accuracy: 0.9903 - val_loss: 0.0034 - val_accuracy: 0.9983\n",
            "Epoch 47/50\n",
            "1460/1460 [==============================] - 14s 10ms/step - loss: 0.0268 - accuracy: 0.9909 - val_loss: 0.0027 - val_accuracy: 0.9988\n",
            "Epoch 48/50\n",
            "1460/1460 [==============================] - 15s 10ms/step - loss: 0.0259 - accuracy: 0.9910 - val_loss: 0.0024 - val_accuracy: 0.9988\n",
            "Epoch 49/50\n",
            "1460/1460 [==============================] - 15s 10ms/step - loss: 0.0248 - accuracy: 0.9911 - val_loss: 0.0028 - val_accuracy: 0.9986\n",
            "Epoch 50/50\n",
            "1460/1460 [==============================] - 15s 10ms/step - loss: 0.0268 - accuracy: 0.9906 - val_loss: 0.0025 - val_accuracy: 0.9987\n"
          ]
        },
        {
          "output_type": "display_data",
          "data": {
            "text/plain": [
              "<Figure size 1440x360 with 2 Axes>"
            ],
            "image/png": "[encoded data removed]"
          },
          "metadata": {}
        }
      ]
    },
    {
      "cell_type": "code",
      "source": [
        "# Оценка точности сети на проверочной выборке\n",
        "eval_model(model, x_test, y_test)"
      ],
      "metadata": {
        "colab": {
          "base_uri": "https://localhost:8080/",
          "height": 635
        },
        "id": "KxUeKjMiSKYR",
        "outputId": "2115ff32-9479-4a8f-ea66-687607bd1f68"
      },
      "execution_count": null,
      "outputs": [
        {
          "output_type": "stream",
          "name": "stdout",
          "text": [
            "1688/1688 [==============================] - 7s 4ms/step - loss: 0.0025 - accuracy: 0.9987\n",
            "Ошибка: 0.0024519404396414757, точность: 0.9987407326698303\n",
            "1688/1688 [==============================] - 4s 2ms/step\n"
          ]
        },
        {
          "output_type": "display_data",
          "data": {
            "text/plain": [
              "<Figure size 720x720 with 2 Axes>"
            ],
            "image/png": "[encoded data removed]"
          },
          "metadata": {}
        }
      ]
    },
    {
      "cell_type": "code",
      "source": [],
      "metadata": {
        "id": "b6adKQorSKfH"
      },
      "execution_count": null,
      "outputs": []
    }
  ]
}